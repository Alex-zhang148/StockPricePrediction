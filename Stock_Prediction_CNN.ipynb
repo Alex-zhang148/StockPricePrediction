{
 "cells": [
  {
   "cell_type": "markdown",
   "metadata": {},
   "source": [
    "## CNN"
   ]
  },
  {
   "cell_type": "code",
   "execution_count": 241,
   "metadata": {},
   "outputs": [],
   "source": [
    "import seaborn as sns\n",
    "import os\n",
    "import pandas as pd\n",
    "import matplotlib.pyplot as plt\n",
    "from scipy.stats import zscore\n",
    "from sklearn.linear_model import LogisticRegression\n",
    "from sklearn.preprocessing import LabelEncoder\n",
    "from sklearn import metrics\n",
    "from sklearn.ensemble import ExtraTreesClassifier\n",
    "import csv\n",
    "import numpy as np\n",
    "from scipy.stats import zscore\n",
    "from sklearn.model_selection import train_test_split\n",
    "from sklearn import datasets,linear_model, preprocessing,utils\n",
    "from sklearn.metrics import mean_squared_error,r2_score\n",
    "from sklearn.preprocessing import LabelEncoder\n",
    "import matplotlib.pyplot as plt \n",
    "from sklearn.linear_model import LogisticRegression\n",
    "from sklearn.metrics import f1_score\n",
    "from sklearn.neighbors import KNeighborsClassifier\n",
    "%matplotlib inline\n",
    "from sklearn import svm\n",
    "from sklearn.naive_bayes import MultinomialNB\n",
    "from sklearn.preprocessing import MinMaxScaler\n",
    "%matplotlib inline\n",
    "from matplotlib.pyplot import figure, show\n",
    "from sklearn.metrics import f1_score\n",
    "from sklearn.metrics import accuracy_score\n",
    "from sklearn import metrics\n",
    "from sklearn.metrics import confusion_matrix, classification_report\n",
    "from sklearn.metrics import roc_curve, auc\n",
    "from sklearn.naive_bayes import GaussianNB\n",
    "\n",
    "from keras.layers import Conv1D, Conv2D, MaxPooling2D \n",
    "from sklearn.ensemble import RandomForestClassifier\n",
    "from sklearn import datasets\n",
    "import numpy as np\n",
    "import matplotlib.pyplot as plt\n",
    "from matplotlib import pyplot\n",
    "import keras\n",
    "from keras.callbacks import ModelCheckpoint\n",
    "from keras.callbacks import EarlyStopping\n",
    "from keras.models import Sequential\n",
    "from keras.layers.core import Dense, Activation, Flatten ,Dropout\n",
    "\n",
    "\n",
    "from keras.preprocessing import sequence\n",
    "from keras.models import Sequential\n",
    "from keras.layers import Dense, Embedding\n",
    "from keras.layers import LSTM\n",
    "from keras.datasets import imdb\n",
    "from keras.callbacks import EarlyStopping\n",
    "import numpy as np\n",
    "\n",
    "\n",
    "\n",
    "from keras.preprocessing import sequence\n",
    "from keras.models import Sequential\n",
    "from keras.layers import Dense, Embedding\n",
    "from keras.layers import LSTM\n",
    "from keras.datasets import imdb\n",
    "from keras.callbacks import EarlyStopping\n",
    "import numpy as np\n",
    "\n",
    "\n"
   ]
  },
  {
   "cell_type": "code",
   "execution_count": 242,
   "metadata": {},
   "outputs": [],
   "source": [
    "# Encode text values to dummy variables(i.e. [1,0,0],[0,1,0],[0,0,1] for red,green,blue)\n",
    "def encode_text_dummy(df, name):\n",
    "    dummies = pd.get_dummies(df[name])\n",
    "    for x in dummies.columns:\n",
    "        dummy_name = \"{}-{}\".format(name, x)\n",
    "        df[dummy_name] = dummies[x]\n",
    "    df.drop(name, axis=1, inplace=True)\n",
    "\n",
    "\n",
    "# Encode text values to indexes(i.e. [1],[2],[3] for red,green,blue).\n",
    "def encode_text_index(df, name):\n",
    "    le = preprocessing.LabelEncoder()\n",
    "    df[name] = le.fit_transform(df[name])\n",
    "    return le.classes_\n",
    "\n",
    "\n",
    "# Encode a numeric column as zscores\n",
    "def encode_numeric_zscore(df, name, mean=None, sd=None):\n",
    "    if mean is None:\n",
    "        mean = df[name].mean()\n",
    "\n",
    "    if sd is None:\n",
    "        sd = df[name].std()\n",
    "\n",
    "    df[name] = (df[name] - mean) / sd\n",
    "\n",
    "\n",
    "# Convert all missing values in the specified column to the median\n",
    "def missing_median(df, name):\n",
    "    med = df[name].median()\n",
    "    df[name] = df[name].fillna(med)\n",
    "\n",
    "\n",
    "# Convert all missing values in the specified column to the default\n",
    "def missing_default(df, name, default_value):\n",
    "    df[name] = df[name].fillna(default_value)\n",
    "\n",
    "\n",
    "# Convert a Pandas dataframe to the x,y inputs that TensorFlow needs\n",
    "def to_xy(df, target):\n",
    "    result = []\n",
    "    for x in df.columns:\n",
    "        if x != target:\n",
    "            result.append(x)\n",
    "    # find out the type of the target column. \n",
    "    target_type = df[target].dtypes\n",
    "    target_type = target_type[0] if isinstance(target_type, collections.Sequence) else target_type\n",
    "    # Encode to int for classification, float otherwise. TensorFlow likes 32 bits.\n",
    "    if target_type in (np.int64, np.int32):\n",
    "        # Classification\n",
    "        dummies = pd.get_dummies(df[target])\n",
    "        return df[result].values.astype(np.float32), dummies.values.astype(np.float32)\n",
    "    else:\n",
    "        # Regression\n",
    "        return df[result].values.astype(np.float32), df[target].values.astype(np.float32)\n",
    "\n",
    "# Nicely formatted time string\n",
    "def hms_string(sec_elapsed):\n",
    "    h = int(sec_elapsed / (60 * 60))\n",
    "    m = int((sec_elapsed % (60 * 60)) / 60)\n",
    "    s = sec_elapsed % 60\n",
    "    return \"{}:{:>02}:{:>05.2f}\".format(h, m, s)\n",
    "\n",
    "\n",
    "# Regression chart.\n",
    "def chart_regression(pred,y,sort=True):\n",
    "    t = pd.DataFrame({'pred' : pred, 'y' : y.flatten()})\n",
    "    if sort:\n",
    "        t.sort_values(by=['y'],inplace=True)\n",
    "    a = plt.plot(t['y'].tolist(),label='expected')\n",
    "    b = plt.plot(t['pred'].tolist(),label='prediction')\n",
    "    plt.ylabel('output')\n",
    "    plt.legend()\n",
    "    plt.show()\n",
    "\n",
    "# Remove all rows where the specified column is +/- sd standard deviations\n",
    "def remove_outliers(df, name, sd):\n",
    "    drop_rows = df.index[(np.abs(df[name] - df[name].mean()) >= (sd * df[name].std()))]\n",
    "    df.drop(drop_rows, axis=0, inplace=True)\n",
    "\n",
    "\n",
    "# Encode a column to a range between normalized_low and normalized_high.\n",
    "def encode_numeric_range(df, name, normalized_low=-1, normalized_high=1,\n",
    "                         data_low=None, data_high=None):\n",
    "    if data_low is None:\n",
    "        data_low = min(df[name])\n",
    "        data_high = max(df[name])\n",
    "\n",
    "    df[name] = ((df[name] - data_low) / (data_high - data_low)) \\\n",
    "               * (normalized_high - normalized_low) + normalized_low\n",
    "#To Sequence\n",
    "import numpy as np\n",
    "\n",
    "def to_sequences(seq_size,data,close):\n",
    "    x = []\n",
    "    y = []\n",
    "\n",
    "    for i in range(len(data)-seq_size-1):\n",
    "        #print(i)\n",
    "        window = data[i:(i+seq_size)]\n",
    "        #print(window)\n",
    "        after_window = close[i+seq_size]\n",
    "        #print(after_window)\n",
    "        #after_window = after_window[4]\n",
    "        window = [[x] for x in window]\n",
    "        #print(\"{} - {}\".format(window,after_window))\n",
    "        x.append(window)\n",
    "        y.append(after_window)\n",
    "        \n",
    "    return np.array(x),np.array(y)"
   ]
  },
  {
   "cell_type": "code",
   "execution_count": 243,
   "metadata": {},
   "outputs": [],
   "source": [
    "#path = \"./dataset/\"\n",
    "preprocess = True\n",
    "\n",
    "filename_read = os.path.join(\"CSC215_P2_Stock_Price.csv\")\n",
    "df = pd.read_csv(filename_read,na_values=['NA','?'])\n",
    "df.drop(['Date','Adj_Close'], axis = 1, inplace = True)"
   ]
  },
  {
   "cell_type": "code",
   "execution_count": 244,
   "metadata": {},
   "outputs": [],
   "source": [
    "df_close = df['Close']"
   ]
  },
  {
   "cell_type": "code",
   "execution_count": 245,
   "metadata": {},
   "outputs": [],
   "source": [
    "encode_numeric_zscore(df, 'Open', mean=None, sd=None)\n",
    "encode_numeric_zscore(df, 'High', mean=None, sd=None)\n",
    "encode_numeric_zscore(df, 'Low', mean=None, sd=None)\n",
    "#encode_numeric_zscore(df, 'Close', mean=None, sd=None)\n",
    "encode_numeric_zscore(df, 'Volume', mean=None, sd=None)"
   ]
  },
  {
   "cell_type": "code",
   "execution_count": 246,
   "metadata": {},
   "outputs": [
    {
     "name": "stdout",
     "output_type": "stream",
     "text": [
      "Shape of X_Train:  (3074, 5)\n",
      "Shape of Y_Train:  (3074,)\n",
      "Shape of X_Test:  (1318, 5)\n",
      "Shape of Y_Test:  (1318,)\n"
     ]
    }
   ],
   "source": [
    "percent70 = int(len(df)* 0.70)\n",
    "percent30 = len(df) - percent70\n",
    "\n",
    "train = df[0:percent70]\n",
    "test = df[percent70:len(df)]\n",
    "train_close = df_close[0:percent70].values\n",
    "test_close = df_close[percent70:len(df_close)].values\n",
    "\n",
    "print(\"Shape of X_Train: \", train.shape)\n",
    "print(\"Shape of Y_Train: \", train_close.shape)\n",
    "print(\"Shape of X_Test: \", test.shape)\n",
    "print(\"Shape of Y_Test: \", test_close.shape)"
   ]
  },
  {
   "cell_type": "code",
   "execution_count": 247,
   "metadata": {},
   "outputs": [],
   "source": [
    "def to_sequences(seq_size,data,close):\n",
    "    x = []\n",
    "    y = []\n",
    "\n",
    "    for i in range(len(data)-seq_size-1):\n",
    "        #print(i)\n",
    "        window = data[i:(i+seq_size)].values\n",
    "        #print(window)\n",
    "        after_window = close[i+seq_size]\n",
    "        #print(after_window)\n",
    "        #after_window = after_window[4]\n",
    "        window = [[x] for x in window]\n",
    "        #print(\"{} - {}\".format(window,after_window))\n",
    "        x.append(window)\n",
    "        y.append(after_window)\n",
    "        \n",
    "    return np.array(x),np.array(y)"
   ]
  },
  {
   "cell_type": "code",
   "execution_count": 248,
   "metadata": {},
   "outputs": [
    {
     "name": "stdout",
     "output_type": "stream",
     "text": [
      "Shape of x_train: (3066, 7, 1, 5)\n",
      "Shape of x_test: (1310, 7, 1, 5)\n",
      "Shape of y_train: (3066,)\n",
      "Shape of y_test: (1310,)\n"
     ]
    }
   ],
   "source": [
    "SEQUENCE_SIZE = 7\n",
    "\n",
    "x_train_cnn,y_train_cnn = to_sequences(SEQUENCE_SIZE,train,train_close)\n",
    "x_test_cnn,y_test_cnn = to_sequences(SEQUENCE_SIZE,test,test_close)\n",
    "\n",
    "print(\"Shape of x_train: {}\".format(x_train_cnn.shape))\n",
    "print(\"Shape of x_test: {}\".format(x_test_cnn.shape))\n",
    "print(\"Shape of y_train: {}\".format(y_train_cnn.shape))\n",
    "print(\"Shape of y_test: {}\".format(y_test_cnn.shape))"
   ]
  },
  {
   "cell_type": "code",
   "execution_count": 249,
   "metadata": {},
   "outputs": [
    {
     "name": "stdout",
     "output_type": "stream",
     "text": [
      "Shape of x_train: (3066, 7, 5)\n",
      "Shape of x_test: (1310, 7, 5)\n",
      "Shape of y_train: (3066,)\n",
      "Shape of y_test: (1310,)\n"
     ]
    }
   ],
   "source": [
    "x_train_cnn = np.reshape(x_train_cnn,(x_train_cnn.shape[0],x_train_cnn.shape[1],x_train_cnn.shape[3]))\n",
    "x_test_cnn = np.reshape(x_test_cnn,(x_test_cnn.shape[0],x_test_cnn.shape[1],x_test_cnn.shape[3]))\n",
    "\n",
    "print(\"Shape of x_train: {}\".format(x_train_cnn.shape))\n",
    "print(\"Shape of x_test: {}\".format(x_test_cnn.shape))\n",
    "print(\"Shape of y_train: {}\".format(y_train_cnn.shape))\n",
    "print(\"Shape of y_test: {}\".format(y_test_cnn.shape))"
   ]
  },
  {
   "cell_type": "code",
   "execution_count": 250,
   "metadata": {},
   "outputs": [
    {
     "name": "stdout",
     "output_type": "stream",
     "text": [
      "4D Shape\n",
      "Shape of X_Train:  (3066, 1, 7, 5)\n",
      "Shape of Y_Train:  (3066,)\n",
      "Shape of X_Test:  (1310, 1, 7, 5)\n",
      "Shape of Y_Test:  (1310,)\n"
     ]
    }
   ],
   "source": [
    "data_rows, data_cols, data_channels = 1,7,5\n",
    "x_train_cnn = x_train_cnn.reshape(x_train_cnn.shape[0], data_rows, data_cols, data_channels)\n",
    "x_test_cnn = x_test_cnn.reshape(x_test_cnn.shape[0], data_rows, data_cols,data_channels)\n",
    "\n",
    "print(\"4D Shape\")\n",
    "print(\"Shape of X_Train: \", x_train_cnn.shape)\n",
    "print(\"Shape of Y_Train: \", y_train_cnn.shape)\n",
    "print(\"Shape of X_Test: \", x_test_cnn.shape)\n",
    "print(\"Shape of Y_Test: \", y_test_cnn.shape)\n",
    "input_shape = (data_rows, data_cols, data_channels)"
   ]
  },
  {
   "cell_type": "markdown",
   "metadata": {},
   "source": [
    "## CNN with 2 Conv2d layers, Maxpooling, Dropout, early stopping, Checkpointing and 1 dense layer"
   ]
  },
  {
   "cell_type": "code",
   "execution_count": 251,
   "metadata": {},
   "outputs": [],
   "source": [
    "checkpointer_cnn = ModelCheckpoint(filepath=\"./best_weights_stock_cnn_es.hdf5\", verbose=1, save_best_only=True)\n"
   ]
  },
  {
   "cell_type": "code",
   "execution_count": 252,
   "metadata": {},
   "outputs": [
    {
     "name": "stdout",
     "output_type": "stream",
     "text": [
      "0\n",
      "Train on 3066 samples, validate on 1310 samples\n",
      "Epoch 1/10\n",
      " - 4s - loss: 80548400360.0856 - val_loss: 229885316.3969\n",
      "\n",
      "Epoch 00001: val_loss improved from inf to 229885316.39695, saving model to ./best_weights_stock_cnn_es.hdf5\n",
      "Epoch 2/10\n",
      " - 0s - loss: 149240255.1181 - val_loss: 87546755.3832\n",
      "\n",
      "Epoch 00002: val_loss improved from 229885316.39695 to 87546755.38321, saving model to ./best_weights_stock_cnn_es.hdf5\n",
      "Epoch 3/10\n",
      " - 0s - loss: 56589500.0783 - val_loss: 33429710.2901\n",
      "\n",
      "Epoch 00003: val_loss improved from 87546755.38321 to 33429710.29008, saving model to ./best_weights_stock_cnn_es.hdf5\n",
      "Epoch 4/10\n",
      " - 0s - loss: 21457825.4534 - val_loss: 12820566.2580\n",
      "\n",
      "Epoch 00004: val_loss improved from 33429710.29008 to 12820566.25802, saving model to ./best_weights_stock_cnn_es.hdf5\n",
      "Epoch 5/10\n",
      " - 0s - loss: 8136520.1233 - val_loss: 4951292.7275\n",
      "\n",
      "Epoch 00005: val_loss improved from 12820566.25802 to 4951292.72748, saving model to ./best_weights_stock_cnn_es.hdf5\n",
      "Epoch 6/10\n",
      " - 0s - loss: 3085343.6610 - val_loss: 1933685.7240\n",
      "\n",
      "Epoch 00006: val_loss improved from 4951292.72748 to 1933685.72405, saving model to ./best_weights_stock_cnn_es.hdf5\n",
      "Epoch 7/10\n",
      " - 0s - loss: 1170005.6917 - val_loss: 768677.8362\n",
      "\n",
      "Epoch 00007: val_loss improved from 1933685.72405 to 768677.83616, saving model to ./best_weights_stock_cnn_es.hdf5\n",
      "Epoch 8/10\n",
      " - 0s - loss: 443724.0063 - val_loss: 314144.1336\n",
      "\n",
      "Epoch 00008: val_loss improved from 768677.83616 to 314144.13359, saving model to ./best_weights_stock_cnn_es.hdf5\n",
      "Epoch 9/10\n",
      " - 0s - loss: 168337.4497 - val_loss: 133936.0082\n",
      "\n",
      "Epoch 00009: val_loss improved from 314144.13359 to 133936.00823, saving model to ./best_weights_stock_cnn_es.hdf5\n",
      "Epoch 10/10\n",
      " - 0s - loss: 63910.8914 - val_loss: 60746.7490\n",
      "\n",
      "Epoch 00010: val_loss improved from 133936.00823 to 60746.74897, saving model to ./best_weights_stock_cnn_es.hdf5\n",
      "1\n",
      "Train on 3066 samples, validate on 1310 samples\n",
      "Epoch 1/10\n",
      " - 4s - loss: nan - val_loss: nan\n",
      "\n",
      "Epoch 00001: val_loss did not improve from 60746.74897\n",
      "Epoch 2/10\n",
      " - 0s - loss: nan - val_loss: nan\n"
     ]
    },
    {
     "name": "stderr",
     "output_type": "stream",
     "text": [
      "C:\\Users\\yesha\\AppData\\Local\\Continuum\\anaconda3\\lib\\site-packages\\keras\\callbacks\\callbacks.py:820: RuntimeWarning: invalid value encountered in less\n",
      "  if self.monitor_op(current - self.min_delta, self.best):\n",
      "C:\\Users\\yesha\\AppData\\Local\\Continuum\\anaconda3\\lib\\site-packages\\keras\\callbacks\\callbacks.py:709: RuntimeWarning: invalid value encountered in less\n",
      "  if self.monitor_op(current, self.best):\n"
     ]
    },
    {
     "name": "stdout",
     "output_type": "stream",
     "text": [
      "\n",
      "Epoch 00002: val_loss did not improve from 60746.74897\n",
      "Epoch 3/10\n",
      " - 0s - loss: nan - val_loss: nan\n",
      "\n",
      "Epoch 00003: val_loss did not improve from 60746.74897\n",
      "Epoch 4/10\n",
      " - 0s - loss: nan - val_loss: nan\n",
      "\n",
      "Epoch 00004: val_loss did not improve from 60746.74897\n",
      "Epoch 5/10\n",
      " - 0s - loss: nan - val_loss: nan\n",
      "\n",
      "Epoch 00005: val_loss did not improve from 60746.74897\n",
      "Epoch 00005: early stopping\n",
      "Loading the best model\n",
      "\n",
      "Model: \"sequential_145\"\n",
      "_________________________________________________________________\n",
      "Layer (type)                 Output Shape              Param #   \n",
      "=================================================================\n",
      "conv2d_323 (Conv2D)          (None, 1, 4, 32)          672       \n",
      "_________________________________________________________________\n",
      "conv2d_324 (Conv2D)          (None, 1, 4, 64)          2112      \n",
      "_________________________________________________________________\n",
      "flatten_144 (Flatten)        (None, 256)               0         \n",
      "_________________________________________________________________\n",
      "dense_287 (Dense)            (None, 10)                2570      \n",
      "_________________________________________________________________\n",
      "dense_288 (Dense)            (None, 1)                 11        \n",
      "=================================================================\n",
      "Total params: 5,365\n",
      "Trainable params: 5,365\n",
      "Non-trainable params: 0\n",
      "_________________________________________________________________\n"
     ]
    }
   ],
   "source": [
    "for i in range(2):\n",
    "    print(i)\n",
    "    \n",
    "    model_cnn = Sequential()\n",
    "    model_cnn.add(Conv2D(32, kernel_size=(1, 4), strides=(1, 1), padding='valid',\n",
    "                 activation='relu',\n",
    "                 input_shape=input_shape))\n",
    "    model_cnn.add(Conv2D(64, (1, 1), activation='relu'))\n",
    "    model_cnn.add(Flatten())\n",
    "    model_cnn.add(Dense(10, activation='relu'))\n",
    "    model_cnn.add(Dense(1))\n",
    "    model_cnn.compile(loss='mean_squared_error', optimizer='sgd')\n",
    "    monitor = EarlyStopping(monitor='val_loss', min_delta=1e-3, patience=5, verbose=1, mode='auto')\n",
    "    model_cnn.fit(x_train_cnn, y_train_cnn, \n",
    "            batch_size=128, \n",
    "            callbacks=[monitor, checkpointer_cnn], \n",
    "            epochs=10, \n",
    "            verbose=2, \n",
    "            validation_data=(x_test_cnn, y_test_cnn))\n",
    "\n",
    "print('Loading the best model') \n",
    "print()\n",
    "model_cnn.load_weights('./best_weights_stock_cnn_es.hdf5')\n",
    "model_cnn.summary()"
   ]
  },
  {
   "cell_type": "code",
   "execution_count": 253,
   "metadata": {},
   "outputs": [
    {
     "data": {
      "text/plain": [
       "array([-177.52663, -177.52663, -177.52663, ..., -177.52663, -177.52663,\n",
       "       -177.52663], dtype=float32)"
      ]
     },
     "execution_count": 253,
     "metadata": {},
     "output_type": "execute_result"
    }
   ],
   "source": [
    "pred_cnn = model_cnn.predict(x_test_cnn)\n",
    "pred_cnn.flatten()"
   ]
  },
  {
   "cell_type": "code",
   "execution_count": 254,
   "metadata": {},
   "outputs": [
    {
     "name": "stdout",
     "output_type": "stream",
     "text": [
      "Score (RMSE): 246.46855670417114\n"
     ]
    },
    {
     "data": {
      "image/png": "[encoded data removed]",
      "text/plain": [
       "<Figure size 432x288 with 1 Axes>"
      ]
     },
     "metadata": {
      "needs_background": "light"
     },
     "output_type": "display_data"
    }
   ],
   "source": [
    "score_cnn= np.sqrt(mean_squared_error(pred_cnn,y_test_cnn))\n",
    "print(\"Score (RMSE): {}\".format(score_cnn))\n",
    "chart_regression(pred_cnn.flatten(),y_test_cnn)"
   ]
  },
  {
   "cell_type": "markdown",
   "metadata": {},
   "source": [
    "## CNN with 3 Conv2d layers, Maxpooling, Dropout, early stopping, Checkpointing and 1 dense layer"
   ]
  },
  {
   "cell_type": "code",
   "execution_count": 255,
   "metadata": {},
   "outputs": [],
   "source": [
    "checkpointer_cnn = ModelCheckpoint(filepath=\"./best_weights_stock_cnn.hdf5\", verbose=1, save_best_only=True)\n"
   ]
  },
  {
   "cell_type": "code",
   "execution_count": 256,
   "metadata": {},
   "outputs": [
    {
     "name": "stdout",
     "output_type": "stream",
     "text": [
      "0\n",
      "Train on 3066 samples, validate on 1310 samples\n",
      "Epoch 1/10\n",
      " - 4s - loss: nan - val_loss: nan\n",
      "\n",
      "Epoch 00001: val_loss did not improve from inf\n",
      "Epoch 2/10\n"
     ]
    },
    {
     "name": "stderr",
     "output_type": "stream",
     "text": [
      "C:\\Users\\yesha\\AppData\\Local\\Continuum\\anaconda3\\lib\\site-packages\\keras\\callbacks\\callbacks.py:820: RuntimeWarning: invalid value encountered in less\n",
      "  if self.monitor_op(current - self.min_delta, self.best):\n",
      "C:\\Users\\yesha\\AppData\\Local\\Continuum\\anaconda3\\lib\\site-packages\\keras\\callbacks\\callbacks.py:709: RuntimeWarning: invalid value encountered in less\n",
      "  if self.monitor_op(current, self.best):\n"
     ]
    },
    {
     "name": "stdout",
     "output_type": "stream",
     "text": [
      " - 0s - loss: nan - val_loss: nan\n",
      "\n",
      "Epoch 00002: val_loss did not improve from inf\n",
      "Epoch 3/10\n",
      " - 0s - loss: nan - val_loss: nan\n",
      "\n",
      "Epoch 00003: val_loss did not improve from inf\n",
      "Epoch 4/10\n",
      " - 0s - loss: nan - val_loss: nan\n",
      "\n",
      "Epoch 00004: val_loss did not improve from inf\n",
      "Epoch 5/10\n",
      " - 0s - loss: nan - val_loss: nan\n",
      "\n",
      "Epoch 00005: val_loss did not improve from inf\n",
      "Epoch 00005: early stopping\n",
      "1\n",
      "Train on 3066 samples, validate on 1310 samples\n",
      "Epoch 1/10\n",
      " - 4s - loss: 36300.4934 - val_loss: 6252.9857\n",
      "\n",
      "Epoch 00001: val_loss improved from inf to 6252.98570, saving model to ./best_weights_stock_cnn.hdf5\n",
      "Epoch 2/10\n",
      " - 0s - loss: 422.9090 - val_loss: 5097.6666\n",
      "\n",
      "Epoch 00002: val_loss improved from 6252.98570 to 5097.66658, saving model to ./best_weights_stock_cnn.hdf5\n",
      "Epoch 3/10\n",
      " - 0s - loss: 235.1833 - val_loss: 4454.2193\n",
      "\n",
      "Epoch 00003: val_loss improved from 5097.66658 to 4454.21925, saving model to ./best_weights_stock_cnn.hdf5\n",
      "Epoch 4/10\n",
      " - 0s - loss: 164.0976 - val_loss: 4083.2418\n",
      "\n",
      "Epoch 00004: val_loss improved from 4454.21925 to 4083.24179, saving model to ./best_weights_stock_cnn.hdf5\n",
      "Epoch 5/10\n",
      " - 0s - loss: 137.0732 - val_loss: 3864.7404\n",
      "\n",
      "Epoch 00005: val_loss improved from 4083.24179 to 3864.74037, saving model to ./best_weights_stock_cnn.hdf5\n",
      "Epoch 6/10\n",
      " - 0s - loss: 126.8107 - val_loss: 3731.9861\n",
      "\n",
      "Epoch 00006: val_loss improved from 3864.74037 to 3731.98614, saving model to ./best_weights_stock_cnn.hdf5\n",
      "Epoch 7/10\n",
      " - 0s - loss: 122.9368 - val_loss: 3654.6865\n",
      "\n",
      "Epoch 00007: val_loss improved from 3731.98614 to 3654.68653, saving model to ./best_weights_stock_cnn.hdf5\n",
      "Epoch 8/10\n",
      " - 0s - loss: 121.5050 - val_loss: 3606.5389\n",
      "\n",
      "Epoch 00008: val_loss improved from 3654.68653 to 3606.53889, saving model to ./best_weights_stock_cnn.hdf5\n",
      "Epoch 9/10\n",
      " - 0s - loss: 120.9561 - val_loss: 3577.6920\n",
      "\n",
      "Epoch 00009: val_loss improved from 3606.53889 to 3577.69197, saving model to ./best_weights_stock_cnn.hdf5\n",
      "Epoch 10/10\n",
      " - 0s - loss: 120.7395 - val_loss: 3559.4706\n",
      "\n",
      "Epoch 00010: val_loss improved from 3577.69197 to 3559.47059, saving model to ./best_weights_stock_cnn.hdf5\n",
      "2\n",
      "Train on 3066 samples, validate on 1310 samples\n",
      "Epoch 1/10\n",
      " - 4s - loss: nan - val_loss: nan\n",
      "\n",
      "Epoch 00001: val_loss did not improve from 3559.47059\n",
      "Epoch 2/10\n"
     ]
    },
    {
     "name": "stderr",
     "output_type": "stream",
     "text": [
      "C:\\Users\\yesha\\AppData\\Local\\Continuum\\anaconda3\\lib\\site-packages\\keras\\callbacks\\callbacks.py:820: RuntimeWarning: invalid value encountered in less\n",
      "  if self.monitor_op(current - self.min_delta, self.best):\n",
      "C:\\Users\\yesha\\AppData\\Local\\Continuum\\anaconda3\\lib\\site-packages\\keras\\callbacks\\callbacks.py:709: RuntimeWarning: invalid value encountered in less\n",
      "  if self.monitor_op(current, self.best):\n"
     ]
    },
    {
     "name": "stdout",
     "output_type": "stream",
     "text": [
      " - 0s - loss: nan - val_loss: nan\n",
      "\n",
      "Epoch 00002: val_loss did not improve from 3559.47059\n",
      "Epoch 3/10\n",
      " - 0s - loss: nan - val_loss: nan\n",
      "\n",
      "Epoch 00003: val_loss did not improve from 3559.47059\n",
      "Epoch 4/10\n",
      " - 0s - loss: nan - val_loss: nan\n",
      "\n",
      "Epoch 00004: val_loss did not improve from 3559.47059\n",
      "Epoch 5/10\n",
      " - 0s - loss: nan - val_loss: nan\n",
      "\n",
      "Epoch 00005: val_loss did not improve from 3559.47059\n",
      "Epoch 00005: early stopping\n",
      "Training finished...Loading the best model\n",
      "\n",
      "Model: \"sequential_148\"\n",
      "_________________________________________________________________\n",
      "Layer (type)                 Output Shape              Param #   \n",
      "=================================================================\n",
      "conv2d_329 (Conv2D)          (None, 1, 3, 32)          832       \n",
      "_________________________________________________________________\n",
      "conv2d_330 (Conv2D)          (None, 1, 3, 64)          2112      \n",
      "_________________________________________________________________\n",
      "max_pooling2d_123 (MaxPoolin (None, 1, 3, 64)          0         \n",
      "_________________________________________________________________\n",
      "dropout_123 (Dropout)        (None, 1, 3, 64)          0         \n",
      "_________________________________________________________________\n",
      "flatten_147 (Flatten)        (None, 192)               0         \n",
      "_________________________________________________________________\n",
      "dense_293 (Dense)            (None, 10)                1930      \n",
      "_________________________________________________________________\n",
      "dense_294 (Dense)            (None, 1)                 11        \n",
      "=================================================================\n",
      "Total params: 4,885\n",
      "Trainable params: 4,885\n",
      "Non-trainable params: 0\n",
      "_________________________________________________________________\n"
     ]
    }
   ],
   "source": [
    "for i in range(3):\n",
    "    print(i)\n",
    "    \n",
    "    model_cnn = Sequential()\n",
    "    model_cnn.add(Conv2D(32, kernel_size=(1, 5), strides=(1, 1), padding='valid',\n",
    "                 activation='relu',\n",
    "                 input_shape=input_shape))\n",
    "    model_cnn.add(Conv2D(64, (1, 1), activation='relu'))\n",
    "    model_cnn.add(MaxPooling2D(pool_size=(1, 1), strides=None))\n",
    "    model_cnn.add(Dropout(0.25))\n",
    "    model_cnn.add(Flatten())\n",
    "    model_cnn.add(Dense(10, activation='relu'))\n",
    "    model_cnn.add(Dense(1))\n",
    "    model_cnn.compile(loss='mean_squared_error', optimizer='sgd')\n",
    "    monitor = EarlyStopping(monitor='val_loss', min_delta=1e-3, patience=5, verbose=1, mode='auto')\n",
    "    model_cnn.fit(x_train_cnn, y_train_cnn, \n",
    "            batch_size=128, \n",
    "            callbacks=[monitor, checkpointer_cnn], \n",
    "            epochs=10, \n",
    "            verbose=2, \n",
    "            validation_data=(x_test_cnn, y_test_cnn))\n",
    "\n",
    "print('Training finished...Loading the best model') \n",
    "print()\n",
    "\n",
    "model_cnn.load_weights('./best_weights_stock_cnn.hdf5')\n",
    "model_cnn.summary()"
   ]
  },
  {
   "cell_type": "code",
   "execution_count": 257,
   "metadata": {},
   "outputs": [],
   "source": [
    "pred_cnn_2 = model_cnn.predict(x_test_cnn)"
   ]
  },
  {
   "cell_type": "code",
   "execution_count": null,
   "metadata": {},
   "outputs": [],
   "source": []
  },
  {
   "cell_type": "code",
   "execution_count": 258,
   "metadata": {},
   "outputs": [
    {
     "name": "stdout",
     "output_type": "stream",
     "text": [
      "Score (RMSE): 59.66129907984722\n"
     ]
    },
    {
     "data": {
      "image/png": "[encoded data removed]",
      "text/plain": [
       "<Figure size 432x288 with 1 Axes>"
      ]
     },
     "metadata": {
      "needs_background": "light"
     },
     "output_type": "display_data"
    }
   ],
   "source": [
    "score_cnn_2= np.sqrt(mean_squared_error(pred_cnn_2,y_test_cnn))\n",
    "print(\"Score (RMSE): {}\".format(score_cnn_2))\n",
    "chart_regression(pred_cnn_2.flatten(),y_test_cnn)"
   ]
  },
  {
   "cell_type": "code",
   "execution_count": null,
   "metadata": {},
   "outputs": [],
   "source": []
  }
 ],
 "metadata": {
  "kernelspec": {
   "display_name": "Python 3",
   "language": "python",
   "name": "python3"
  },
  "language_info": {
   "codemirror_mode": {
    "name": "ipython",
    "version": 3
   },
   "file_extension": ".py",
   "mimetype": "text/x-python",
   "name": "python",
   "nbconvert_exporter": "python",
   "pygments_lexer": "ipython3",
   "version": "3.7.4"
  }
 },
 "nbformat": 4,
 "nbformat_minor": 2
}
